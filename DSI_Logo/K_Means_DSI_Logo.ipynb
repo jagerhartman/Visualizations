{
 "cells": [
  {
   "cell_type": "code",
   "execution_count": 2,
   "metadata": {
    "collapsed": false
   },
   "outputs": [
    {
     "data": {
      "image/png": "[encoded data removed]",
      "text/plain": [
       "<matplotlib.figure.Figure at 0x8609e48>"
      ]
     },
     "metadata": {},
     "output_type": "display_data"
    }
   ],
   "source": [
    "import re\n",
    "import matplotlib.pyplot as plt\n",
    "%matplotlib inline\n",
    "import numpy as np\n",
    "import pandas as pd\n",
    "\n",
    "\n",
    "with open('dsi_logo.svg') as f:\n",
    "    s = f.readline()\n",
    "    l = re.findall(r'cx=\"\\d+\\.\\d\\d\" cy=\"\\d+\\.\\d\\d\"',s, re.IGNORECASE)\n",
    "    remove_c = [re.sub(r'c[xy]=\"', \"\", coord) for coord in l]\n",
    "    x_values = [float(re.sub('\"', \"\", a).split()[0]) for a in remove_c]\n",
    "    y_values = [float(re.sub('\"', \"\", a).split()[1]) for a in remove_c]\n",
    "\n",
    "x_val_clean = ((x_values - np.min(x_values)) / np.max(x_values) ) * 4.0\n",
    "y_val_clean = ((y_values - np.min(y_values)) / np.max(y_values) ) * 4.0\n",
    "\n",
    "D_x = np.array(x_val_clean)[x_val_clean < 1.25]\n",
    "D_y = np.array(y_val_clean)[x_val_clean < 1.25]\n",
    "\n",
    "S_x = np.array(x_val_clean)[(x_val_clean > 1.25) & (x_val_clean < 2.75)]\n",
    "S_y = np.array(y_val_clean)[(x_val_clean > 1.25) & (x_val_clean < 2.75)]\n",
    "\n",
    "S_x_reflect = -1.0 * S_x + -1.0*np.min(-1.0*S_x) + np.min(S_x)\n",
    "\n",
    "I_x =  np.array(x_val_clean)[x_val_clean > 2.75]\n",
    "I_y = np.array(y_val_clean)[x_val_clean >2.75]\n",
    "\n",
    "dsi_x = np.concatenate([D_x, S_x_reflect, I_x])\n",
    "dsi_y = np.concatenate([D_y, S_y, I_y])\n",
    "\n",
    "\n",
    "fig = plt.figure()\n",
    "ax = fig.add_subplot(111)\n",
    "ax.plot(dsi_x, dsi_y, 'k.')\n",
    "\n",
    "df = np.matrix([dsi_x, dsi_y])"
   ]
  },
  {
   "cell_type": "code",
   "execution_count": 25,
   "metadata": {
    "collapsed": false
   },
   "outputs": [
    {
     "name": "stdout",
     "output_type": "stream",
     "text": [
      "[ -9.11959132e-17   1.00000000e+00]\n"
     ]
    },
    {
     "data": {
      "text/plain": [
       "[<matplotlib.lines.Line2D at 0x1107ccc0>]"
      ]
     },
     "execution_count": 25,
     "metadata": {},
     "output_type": "execute_result"
    },
    {
     "data": {
      "image/png": "[encoded data removed]",
      "text/plain": [
       "<matplotlib.figure.Figure at 0xf119a58>"
      ]
     },
     "metadata": {},
     "output_type": "display_data"
    }
   ],
   "source": [
    "from sklearn.cluster import KMeans\n",
    "from sklearn.linear_model import LinearRegression\n",
    "\n",
    "lr = LinearRegression()\n",
    "lr.fit(df.T, dsi_y)\n",
    "print lr.coef_\n",
    "\n",
    "k = KMeans(2)\n",
    "k.fit(df.T)\n",
    "\n",
    "c = k.labels_\n",
    "centers = k.cluster_centers_\n",
    "\n",
    "x_1, y_1, x_2, y_2 = centers.flatten()\n",
    "x_c = 0.5*np.abs(x_2 - x_1) + min(x_1, x_2)\n",
    "y_c = 0.5*np.abs(y_2 - y_1) + min(y_1, y_2)\n",
    "\n",
    "fig = plt.figure()\n",
    "ax = fig.add_subplot(111)\n",
    "ax.plot(dsi_x[c == 0], dsi_y[c == 0], '.')\n",
    "ax.plot(dsi_x[c == 1], dsi_y[c == 1], '.')\n",
    "\n",
    "x = np.unique(dsi_x)\n",
    "ax.plot(x[len(x)/3 : 2*len(x)/3], -float(x_1-x_2)/(y_1 - y_2)*(x[len(x)/3 : 2*len(x)/3] - x_c) + y_c, 'k')\n"
   ]
  },
  {
   "cell_type": "code",
   "execution_count": null,
   "metadata": {
    "collapsed": true
   },
   "outputs": [],
   "source": []
  }
 ],
 "metadata": {
  "kernelspec": {
   "display_name": "Python 2",
   "language": "python",
   "name": "python2"
  },
  "language_info": {
   "codemirror_mode": {
    "name": "ipython",
    "version": 2
   },
   "file_extension": ".py",
   "mimetype": "text/x-python",
   "name": "python",
   "nbconvert_exporter": "python",
   "pygments_lexer": "ipython2",
   "version": "2.7.13"
  }
 },
 "nbformat": 4,
 "nbformat_minor": 2
}
